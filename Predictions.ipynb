{
 "cells": [
  {
   "cell_type": "code",
   "execution_count": null,
   "metadata": {},
   "outputs": [],
   "source": [
    "%pylab inline"
   ]
  },
  {
   "cell_type": "code",
   "execution_count": null,
   "metadata": {},
   "outputs": [],
   "source": [
    "import dataiku\n",
    "from dataiku import pandasutils as pdu\n",
    "import pandas as pd\n",
    "import numpy as np\n"
   ]
  },
  {
   "cell_type": "code",
   "execution_count": null,
   "metadata": {},
   "outputs": [],
   "source": [
    "# Example: load a DSS dataset as a Pandas dataframe\n",
    "mydataset = dataiku.Dataset(\"Rules\")\n",
    "mydatasetorig = dataiku.Dataset(\"Shopping_tabular\")\n",
    "dfrules = mydataset.get_dataframe()\n",
    "dforig = mydatasetorig.get_dataframe()\n",
    "\n",
    "X = dforig.values\n",
    "array = np.arange(X.shape[1])\n",
    "dfrules.sort_values(['antecedents', 'confidence'], ascending=[True, False], inplace=True)\n",
    "\n",
    "# Map products\n",
    "dfproducts=dforig*array\n",
    "mapping = {idx: item for idx, item in enumerate(dforig.columns)}\n",
    "dfproducts=dfproducts.apply(lambda x: [mapping[i] for i in x])\n",
    "dfproducts.replace(to_replace=['TICKET'],value='',inplace=True)\n",
    "products=list(dfproducts.columns.values)\n",
    "products.remove('TICKET')\n",
    "del dfproducts['TICKET']\n"
   ]
  },
  {
   "cell_type": "code",
   "execution_count": null,
   "metadata": {},
   "outputs": [],
   "source": [
    "dfproducts['products']=''\n",
    "\n",
    "# store list of products purchased\n",
    "for index, row in dfproducts.iterrows():\n",
    "    lstfields=[]\n",
    "    for item in products:\n",
    "        if len(dfproducts[item][index])>0:\n",
    "            lstfields.append(item)\n",
    "    dfproducts['products'][index]=lstfields\n",
    "\n",
    "# convert antecendents into a list\n",
    "dfrules['listantec']=''\n",
    "for index, row in dfrules.iterrows():\n",
    "    lstantec=[]\n",
    "    for item in dfrules['antecedents'][index].split(','):\n",
    "        lstantec.append(item)\n",
    "    dfrules['listantec'][index]=lstantec\n",
    "    "
   ]
  },
  {
   "cell_type": "code",
   "execution_count": null,
   "metadata": {},
   "outputs": [],
   "source": [
    "dfproducts['predrule']=''\n",
    "dfproducts['predconf']=''\n",
    "dfproducts['predruleid']=''\n",
    "\n",
    "# search, in antecedents list, for elements contained in products\n",
    "for index, row in dfproducts.iterrows():\n",
    "    storerule=[]\n",
    "    lstproducts=dfproducts['products'][index]\n",
    "    z = []\n",
    "    # for each rule check now if each element of listproducts is in antecedents list\n",
    "    for index2, row2 in dfrules.iterrows():\n",
    "        count=0\n",
    "        found=False\n",
    "        lstantec=dfrules['listantec'][index2]\n",
    "        conseq=dfrules['consequent'][index2]\n",
    "        for item in lstproducts:        \n",
    "            if item in lstantec:\n",
    "                count+=1\n",
    "            if item==conseq:\n",
    "                found=True\n",
    "        if count==len(lstantec) and not found: # all antecedents from rule have been bought and none is the consequent\n",
    "            z.append(dfrules['ruleid'][index2]) # rule id\n",
    "            z.append(dfrules['consequent'][index2])\n",
    "            z.append(float(\"{0:.3f}\".format(dfrules['confidence'][index2])))\n",
    "            storerule.append(z)\n",
    "            z=[]\n",
    "\n",
    "    # assign now highest confidence\n",
    "    if len(storerule)>0: #if any rule has been found, store it as prediction:\n",
    "        conf=0\n",
    "        highest_conf=0\n",
    "        icount=-1\n",
    "        irule=0\n",
    "        for item3 in storerule:\n",
    "            icount+=1\n",
    "            conf=storerule[icount][2]\n",
    "            if conf>highest_conf:\n",
    "                highest_conf=conf\n",
    "                irule=icount\n",
    "\n",
    "        # store highest confidence rule as prediction\n",
    "        dfproducts['predrule'][index]=str(storerule[irule][1])\n",
    "        dfproducts['predconf'][index]=storerule[irule][2]\n",
    "        dfproducts['predruleid'][index]=storerule[irule][0]\n",
    "\n",
    "#remove temporary columns\n",
    "del dfproducts['products']\n",
    "for item in products:\n",
    "    del dfproducts[item]"
   ]
  },
  {
   "cell_type": "code",
   "execution_count": null,
   "metadata": {},
   "outputs": [],
   "source": [
    "#add predictions to original file and display it\n",
    "dfproducts=pd.concat([dforig, dfproducts], axis=1)\n",
    "dfproducts"
   ]
  }
 ],
 "metadata": {
  "creator": "admin",
  "kernelspec": {
   "display_name": "Python 2",
   "language": "python",
   "name": "python2"
  },
  "language_info": {
   "codemirror_mode": {
    "name": "ipython",
    "version": 2
   },
   "file_extension": ".py",
   "mimetype": "text/x-python",
   "name": "python",
   "nbconvert_exporter": "python",
   "pygments_lexer": "ipython2",
   "version": "2.7.5"
  }
 },
 "nbformat": 4,
 "nbformat_minor": 1
}
